{
 "cells": [
  {
   "cell_type": "markdown",
   "metadata": {
    "slideshow": {
     "slide_type": "slide"
    }
   },
   "source": [
    "# Imports\n",
    "For a detail explanation of modules in Python, refer to the official [documentation](https://docs.python.org/3/tutorial/modules.html)."
   ]
  },
  {
   "cell_type": "code",
   "execution_count": null,
   "metadata": {
    "slideshow": {
     "slide_type": "fragment"
    }
   },
   "outputs": [],
   "source": []
  },
  {
   "cell_type": "markdown",
   "metadata": {
    "slideshow": {
     "slide_type": "slide"
    }
   },
   "source": [
    "# Numpy"
   ]
  },
  {
   "cell_type": "markdown",
   "metadata": {
    "slideshow": {
     "slide_type": "fragment"
    }
   },
   "source": [
    "<div class=\"alert alert-success\">\n",
    "<a href=\"https://numpy.org/doc/stable/user/whatisnumpy.html\" class=\"alert-link\">Numpy</a> is a Python library for scientific computing in Python, that provides a multidimensional array object and tools to working with these arrays efficiently. NumPy gives you an enormous range of fast and efficient ways of creating arrays and manipulating numerical data inside them.\n",
    "</div>"
   ]
  },
  {
   "cell_type": "markdown",
   "metadata": {
    "slideshow": {
     "slide_type": "fragment"
    }
   },
   "source": [
    "Read the <a href=\"https://numpy.org/devdocs/user/absolute_beginners.html\">beginner's guide on Numpy</a> and more about its detailed <a href=\"https://numpy.org/doc/stable/reference/\">documentation</a>.\n"
   ]
  },
  {
   "cell_type": "markdown",
   "metadata": {
    "slideshow": {
     "slide_type": "slide"
    }
   },
   "source": [
    "1. Numpy vs list\n",
    "2. Creating Numpy arrays\n",
    "3. Shape\n",
    "    * array shape\n",
    "    * reshape\n",
    "    * transpose\n",
    "4. Indexing and slicing\n",
    "5. Basic Numpy array operations"
   ]
  },
  {
   "cell_type": "markdown",
   "metadata": {
    "slideshow": {
     "slide_type": "slide"
    }
   },
   "source": [
    "### 1. Numpy vs list\n",
    "* **Size** - Numpy data structures take up less space\n",
    "* **Performance** - faster than lists\n",
    "* **Functionality** - Numpy have optimized functions such as linear algebra operations built in.\n",
    "\n",
    "The elements in a NumPy array are all required to be of the same data type (homogeneous).  \n",
    "Numpy arrays have specific <a href=\"https://numpy.org/devdocs/user/basics.types.html\">numpy datatypes</a>.  \n",
    "Numpy has operations that typically require nested loops in a simple list e.g. element wise operation is not possible on the list."
   ]
  },
  {
   "cell_type": "code",
   "execution_count": null,
   "metadata": {
    "slideshow": {
     "slide_type": "subslide"
    }
   },
   "outputs": [],
   "source": []
  },
  {
   "cell_type": "markdown",
   "metadata": {
    "slideshow": {
     "slide_type": "slide"
    }
   },
   "source": [
    "### 2. Creating Numpy arrays\n",
    "There are several different ways to create numpy arrays, to name a few:"
   ]
  },
  {
   "cell_type": "code",
   "execution_count": null,
   "metadata": {
    "slideshow": {
     "slide_type": "subslide"
    }
   },
   "outputs": [],
   "source": []
  },
  {
   "cell_type": "markdown",
   "metadata": {
    "slideshow": {
     "slide_type": "slide"
    }
   },
   "source": [
    "### 3. Shape\n",
    "You can use `array.ndim`, `array.size`, and `array.shape` to evaluate the shape of your numpy array.  \n",
    "You are also able to freely manipulate the shape of your array using `array.reshape(row, col)` and `array.T`.\n",
    "The shape of an array is a tuple of integers giving the size of the array along each dimension.  "
   ]
  },
  {
   "cell_type": "code",
   "execution_count": null,
   "metadata": {
    "slideshow": {
     "slide_type": "subslide"
    }
   },
   "outputs": [],
   "source": []
  },
  {
   "cell_type": "markdown",
   "metadata": {
    "slideshow": {
     "slide_type": "slide"
    }
   },
   "source": [
    "### 4. Indexing and slicing\n",
    "A new possible syntax for indexing. `[row][col] & [row,col]`  \n",
    "Slicing still follows `start:stop:step`"
   ]
  },
  {
   "cell_type": "code",
   "execution_count": null,
   "metadata": {
    "slideshow": {
     "slide_type": "subslide"
    }
   },
   "outputs": [],
   "source": []
  },
  {
   "cell_type": "markdown",
   "metadata": {
    "slideshow": {
     "slide_type": "subslide"
    }
   },
   "source": [
    "What will the following sliced array print?"
   ]
  },
  {
   "cell_type": "code",
   "execution_count": null,
   "metadata": {
    "slideshow": {
     "slide_type": "fragment"
    }
   },
   "outputs": [],
   "source": [
    "array = np.arange(24).reshape((6,4))\n",
    "sliced_array = array[1::2, :-2:3]\n",
    "print(sliced_array)"
   ]
  },
  {
   "cell_type": "markdown",
   "metadata": {},
   "source": [
    "### 5. Basic Numpy array operations\n",
    "Numpy allows for easier <a href=\"https://numpy.org/doc/stable/reference/routines.math.html\" class=\"alert-link\">mathematical operations</a>.\n",
    "Some operations are overloaded as both operators and functions. Say x and y are both numpy arrays, we can perform the following:\n",
    "```python\n",
    "x + y == np.add(x, y)\n",
    "x - y == np.subtract(x, y)\n",
    "x / y == np.divide(x, y)\n",
    "x * y == np.multiply(x, y)\n",
    "x.dot(y) == np.dot(x, y)\n",
    "np.sqrt(x)\n",
    "np.square(x)\n",
    "```\n",
    "Numpy broadcasting lets us to perform operations on arrays of different sizes. Read more on <a href=\"https://numpy.org/doc/stable/user/basics.broadcasting.html\">broadcasting documentation</a>.  \n",
    "A lot of these operations have the option to specify the axis, read more about <a href=\"https://www.sharpsightlabs.com/blog/numpy-axes-explained/#:~:text=In%20any%20Python%20sequence%20%E2%80%93%20like,1%2C%E2%80%9D%20and%20so%20on.\">Numpy axes</a>."
   ]
  },
  {
   "cell_type": "code",
   "execution_count": null,
   "metadata": {},
   "outputs": [],
   "source": []
  }
 ],
 "metadata": {
  "celltoolbar": "Slideshow",
  "kernelspec": {
   "display_name": "Python 3",
   "language": "python",
   "name": "python3"
  },
  "language_info": {
   "codemirror_mode": {
    "name": "ipython",
    "version": 3
   },
   "file_extension": ".py",
   "mimetype": "text/x-python",
   "name": "python",
   "nbconvert_exporter": "python",
   "pygments_lexer": "ipython3",
   "version": "3.7.2"
  }
 },
 "nbformat": 4,
 "nbformat_minor": 2
}
