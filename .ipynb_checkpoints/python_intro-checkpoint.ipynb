{
 "cells": [
  {
   "cell_type": "markdown",
   "metadata": {
    "slideshow": {
     "slide_type": "slide"
    }
   },
   "source": [
    "# ECE 196 Lecture 1: Intro to Python\n",
    "<sub>Adapted from Ravi Patel and COGS 18 materials</sub>"
   ]
  },
  {
   "cell_type": "markdown",
   "metadata": {
    "slideshow": {
     "slide_type": "slide"
    }
   },
   "source": [
    "# Jupyter Notebook"
   ]
  },
  {
   "cell_type": "markdown",
   "metadata": {
    "slideshow": {
     "slide_type": "fragment"
    }
   },
   "source": [
    "<div class=\"alert alert-success\">\n",
    "Jupyter notebook is a tool that combines executable code, code outputs, and text into a single file.\n",
    "</div>"
   ]
  },
  {
   "cell_type": "markdown",
   "metadata": {
    "slideshow": {
     "slide_type": "fragment"
    }
   },
   "source": [
    "<div class=\"alert alert-success\">\n",
    "The main organizational structure of the notebook are 'cells'.\n",
    "</div>"
   ]
  },
  {
   "cell_type": "markdown",
   "metadata": {
    "slideshow": {
     "slide_type": "fragment"
    }
   },
   "source": [
    "<div class=\"alert alert-info\">\n",
    "For more useful information, check out Jupyter Notebooks \n",
    "<a href=\"https://www.dataquest.io/blog/jupyter-notebook-tips-tricks-shortcuts/\" class=\"alert-link\">tips & tricks</a>\n",
    ".\n",
    "The official documentation from project Jupyter is available \n",
    "<a href=\"https://jupyter-notebook.readthedocs.io/en/stable/\" class=\"alert-link\">here</a>\n",
    "and some example notebooks can be found\n",
    "<a href=\"https://github.com/jupyter/notebook/tree/master/docs/source/examples/Notebook\" class=\"alert-link\">here</a>\n",
    ".\n",
    "</div>"
   ]
  },
  {
   "cell_type": "markdown",
   "metadata": {
    "slideshow": {
     "slide_type": "slide"
    }
   },
   "source": [
    "<center><img src=\"media/meme1.png\" width=\"900px\"></center>"
   ]
  },
  {
   "cell_type": "markdown",
   "metadata": {
    "slideshow": {
     "slide_type": "slide"
    }
   },
   "source": [
    "# Variables\n",
    "* Variable name must start with a letter or the underscore character\n",
    "* Variable name cannot start with a number\n",
    "* Variable name can only contain: alphanumeric characters (A-z, 0-9) or underscores ( _ )\n",
    "* Variable names are case sensitive"
   ]
  },
  {
   "cell_type": "code",
   "execution_count": 15,
   "metadata": {
    "slideshow": {
     "slide_type": "fragment"
    }
   },
   "outputs": [
    {
     "ename": "SyntaxError",
     "evalue": "invalid syntax (<ipython-input-15-240e5fdee4ed>, line 1)",
     "output_type": "error",
     "traceback": [
      "\u001b[0;36m  File \u001b[0;32m\"<ipython-input-15-240e5fdee4ed>\"\u001b[0;36m, line \u001b[0;32m1\u001b[0m\n\u001b[0;31m    2dragon_warrior = 'Po'\u001b[0m\n\u001b[0m                  ^\u001b[0m\n\u001b[0;31mSyntaxError\u001b[0m\u001b[0;31m:\u001b[0m invalid syntax\n"
     ]
    }
   ],
   "source": [
    "dragon_warrior = 'Po'\n",
    "Dragon_Warrior = 'kung fu panda'\n",
    "print(dragon_warrior)\n",
    "print(Dragon_Warrior)"
   ]
  },
  {
   "cell_type": "markdown",
   "metadata": {
    "slideshow": {
     "slide_type": "subslide"
    }
   },
   "source": [
    "### Reserved Words\n",
    "\n",
    "There are 33 words that are not allowed to be used for variable assignment in Python."
   ]
  },
  {
   "cell_type": "markdown",
   "metadata": {
    "slideshow": {
     "slide_type": "fragment"
    }
   },
   "source": [
    "<table type=\"text/css\">\n",
    "  <tr>\n",
    "      <td><code>False</code></td>\n",
    "      <td><code>None</code></td>\n",
    "      <td><code>True</code></td>\n",
    "      <td><code>and</code></td>\n",
    "      <td><code>as</code></td>\n",
    "      <td><code>assert</code></td>\n",
    "      <td><code>break</code></td>\n",
    "  </tr>\n",
    "  <tr>\n",
    "      <td><code>class</code></td>\n",
    "      <td><code>continue</code></td>\n",
    "      <td><code>def</code></td>\n",
    "      <td><code>del</code></td>\n",
    "      <td><code>elif</code></td>\n",
    "      <td><code>else</code></td>\n",
    "      <td><code>except</code></td>\n",
    "  </tr>\n",
    "  <tr>\n",
    "      <td><code>finally</code></td>\n",
    "      <td><code>for</code></td>\n",
    "      <td><code>from</code></td>\n",
    "      <td><code>global</code></td>\n",
    "      <td><code>if</code></td>\n",
    "      <td><code>import</code></td>\n",
    "      <td><code>in</code></td>\n",
    "  </tr>\n",
    "  <tr>\n",
    "      <td><code>is</code></td>\n",
    "      <td><code>lambda</code></td>\n",
    "      <td><code>nonlocal</code></td>\n",
    "      <td><code>not</code></td>\n",
    "      <td><code>or</code></td>\n",
    "      <td><code>pass</code></td>\n",
    "      <td><code>raise</code></td>\n",
    "  </tr>    \n",
    "  <tr>\n",
    "      <td><code>return</code></td>\n",
    "      <td><code>try</code></td>\n",
    "      <td><code>while</code></td>\n",
    "      <td><code>with</code></td>\n",
    "      <td><code>yield</code></td>\n",
    "  </tr>    \n",
    "</table>"
   ]
  },
  {
   "cell_type": "markdown",
   "metadata": {
    "slideshow": {
     "slide_type": "subslide"
    }
   },
   "source": [
    "### Variable Types\n",
    "<div class=\"alert alert-success\">\n",
    "<b>Integers</b> store whole numbers.\n",
    "</div>"
   ]
  },
  {
   "cell_type": "code",
   "execution_count": 18,
   "metadata": {
    "slideshow": {
     "slide_type": "fragment"
    }
   },
   "outputs": [
    {
     "name": "stdout",
     "output_type": "stream",
     "text": [
      "0\n",
      "<class 'int'>\n"
     ]
    }
   ],
   "source": [
    "my_int = 0\n",
    "print(my_int)\n",
    "print(type(my_int))"
   ]
  },
  {
   "cell_type": "markdown",
   "metadata": {
    "slideshow": {
     "slide_type": "subslide"
    }
   },
   "source": [
    "### Variable Types\n",
    "<div class=\"alert alert-success\">\n",
    "<b>Floats</b> store signed, decimal-point numbers.\n",
    "</div>"
   ]
  },
  {
   "cell_type": "code",
   "execution_count": 24,
   "metadata": {
    "slideshow": {
     "slide_type": "fragment"
    }
   },
   "outputs": [
    {
     "name": "stdout",
     "output_type": "stream",
     "text": [
      "4.0\n",
      "<class 'float'>\n",
      "-3\n",
      "<class 'int'>\n"
     ]
    }
   ],
   "source": [
    "my_float = float(4)\n",
    "print(my_float)\n",
    "print(type(my_float))\n",
    "\n",
    "my_float = int(-3.6) # cast as int, number is truncated\n",
    "print(my_float)\n",
    "print(type(my_float))"
   ]
  },
  {
   "cell_type": "markdown",
   "metadata": {
    "slideshow": {
     "slide_type": "subslide"
    }
   },
   "source": [
    "### Variable Types\n",
    "<div class=\"alert alert-success\">\n",
    "<b>Strings</b> store characters, as text. \n",
    "</div>"
   ]
  },
  {
   "cell_type": "code",
   "execution_count": 4,
   "metadata": {
    "slideshow": {
     "slide_type": "fragment"
    }
   },
   "outputs": [
    {
     "name": "stdout",
     "output_type": "stream",
     "text": [
      "ECE 196 is awesome!\n",
      "<class 'str'>\n"
     ]
    }
   ],
   "source": [
    "my_string = 'ECE 196 is awesome!'\n",
    "print(my_string)\n",
    "print(type(my_string))"
   ]
  },
  {
   "cell_type": "markdown",
   "metadata": {
    "slideshow": {
     "slide_type": "subslide"
    }
   },
   "source": [
    "### Variable Types\n",
    "<div class=\"alert alert-success\">\n",
    "<b>Booleans</b> store \"True\" or \"False\". \n",
    "</div>"
   ]
  },
  {
   "cell_type": "code",
   "execution_count": 28,
   "metadata": {
    "slideshow": {
     "slide_type": "fragment"
    }
   },
   "outputs": [
    {
     "name": "stdout",
     "output_type": "stream",
     "text": [
      "True\n",
      "<class 'bool'>\n",
      "False\n",
      "<class 'bool'>\n"
     ]
    }
   ],
   "source": [
    "my_bool = True # case senstivie\n",
    "print(my_bool)\n",
    "print(type(my_bool))\n",
    "\n",
    "my_bool = False\n",
    "print(my_bool)\n",
    "print(type(my_bool))"
   ]
  },
  {
   "cell_type": "markdown",
   "metadata": {
    "slideshow": {
     "slide_type": "subslide"
    }
   },
   "source": [
    "### Variable Types\n",
    "<div class=\"alert alert-success\">\n",
    "\"None\" is a special type that stores \"None\", used to denote a null or empty value.\n",
    "</div>"
   ]
  },
  {
   "cell_type": "code",
   "execution_count": 22,
   "metadata": {
    "slideshow": {
     "slide_type": "fragment"
    }
   },
   "outputs": [
    {
     "name": "stdout",
     "output_type": "stream",
     "text": [
      "None\n",
      "<class 'NoneType'>\n"
     ]
    }
   ],
   "source": [
    "empty_var = None\n",
    "print(empty_var)\n",
    "print(type(empty_var))"
   ]
  },
  {
   "cell_type": "markdown",
   "metadata": {
    "slideshow": {
     "slide_type": "slide"
    }
   },
   "source": [
    "# Comments\n",
    "* Inline comment with the pound ( `#` ) key\n",
    "* Multiple-line comment with triple quotes ( `‘’’` or `“””` )"
   ]
  },
  {
   "cell_type": "code",
   "execution_count": 7,
   "metadata": {
    "slideshow": {
     "slide_type": "subslide"
    }
   },
   "outputs": [
    {
     "name": "stdout",
     "output_type": "stream",
     "text": [
      "10\n",
      "<class 'int'>\n",
      "10.6\n",
      "3.1415\n",
      "<class 'float'>\n",
      "hello world!\n",
      "<class 'str'>\n"
     ]
    }
   ],
   "source": [
    "# x = 10   # this is an inline comment\n",
    "# print(x)\n",
    "# print(type(x))\n",
    "\n",
    "'''\n",
    "    THis is a multiple-line\n",
    "    comment\n",
    "'''\n",
    "y = 10.6\n",
    "print(y)\n",
    "\"\"\"\n",
    "    This is a multiple-line\n",
    "    comment\n",
    "\"\"\"\n",
    "x = 3.1415\n",
    "print(x)\n",
    "print(type(x))\n",
    "x = \"hello world!\"\n",
    "print(x)\n",
    "print(type(x))"
   ]
  },
  {
   "cell_type": "code",
   "execution_count": 30,
   "metadata": {
    "slideshow": {
     "slide_type": "subslide"
    }
   },
   "outputs": [
    {
     "name": "stdout",
     "output_type": "stream",
     "text": [
      "I hope everyone is having fun\n"
     ]
    }
   ],
   "source": [
    "\"\"\"\n",
    "print(\"Today we are learning ECE 196\")\n",
    "print(\"the topic is python\")\n",
    "\"\"\"\n",
    "print(\"I hope everyone is having fun\")"
   ]
  },
  {
   "cell_type": "markdown",
   "metadata": {
    "slideshow": {
     "slide_type": "slide"
    }
   },
   "source": [
    "# Operators\n",
    "* assignment\n",
    "* math\n",
    "* logic\n",
    "* comparison"
   ]
  },
  {
   "cell_type": "markdown",
   "metadata": {
    "slideshow": {
     "slide_type": "slide"
    }
   },
   "source": [
    "## Assignment\n",
    "#### Code Variables != Math Variables\n",
    "* In mathematics: `=` refers to equality (as a statement of truth).\n",
    "* In coding: `=` refers to assignment."
   ]
  },
  {
   "cell_type": "markdown",
   "metadata": {
    "slideshow": {
     "slide_type": "subslide"
    }
   },
   "source": [
    "Math: What is x?\n",
    "\n",
    "$x = 2x + 2$"
   ]
  },
  {
   "cell_type": "markdown",
   "metadata": {
    "slideshow": {
     "slide_type": "fragment"
    }
   },
   "source": [
    "$-x = 2$\n",
    "\n",
    "$x = -2$"
   ]
  },
  {
   "cell_type": "markdown",
   "metadata": {
    "slideshow": {
     "slide_type": "subslide"
    }
   },
   "source": [
    "Code: What is x?\n",
    "\n",
    "`x = x + 1`"
   ]
  },
  {
   "cell_type": "code",
   "execution_count": 31,
   "metadata": {
    "slideshow": {
     "slide_type": "fragment"
    }
   },
   "outputs": [
    {
     "name": "stdout",
     "output_type": "stream",
     "text": [
      "3\n"
     ]
    }
   ],
   "source": [
    "my_var = 2 \n",
    "my_var = my_var + 1\n",
    "print(my_var)"
   ]
  },
  {
   "cell_type": "markdown",
   "metadata": {
    "slideshow": {
     "slide_type": "fragment"
    }
   },
   "source": [
    "What is my_var?\n",
    "\n",
    "A) 0\n",
    "\n",
    "B) 2\n",
    "\n",
    "C) 3\n",
    "\n",
    "D) \"my_var + 1\""
   ]
  },
  {
   "cell_type": "markdown",
   "metadata": {
    "slideshow": {
     "slide_type": "slide"
    }
   },
   "source": [
    "## Math\n",
    "* Three types of number in Python: **int**, **float**, and **complex**\n",
    "* addition ( `+` ), subtraction ( `-` ), multiplication ( `*` ), division ( `/` ), exponentiation ( `**` ), modulus ( `%` ), floor division ( `//` )"
   ]
  },
  {
   "cell_type": "code",
   "execution_count": 41,
   "metadata": {
    "slideshow": {
     "slide_type": "subslide"
    }
   },
   "outputs": [
    {
     "name": "stdout",
     "output_type": "stream",
     "text": [
      "0\n",
      "(10-5j)\n",
      "<class 'complex'>\n",
      "10.0 -5.0\n",
      "(14-3j)\n",
      "(50+0j)\n",
      "(75-100j)\n",
      "1\n"
     ]
    }
   ],
   "source": [
    "# x = 10 # integer\n",
    "# y = 10.5 # float\n",
    "# z = 10 + 10.5  ## dynamically assign z to be a float\n",
    "# print(z)\n",
    "# print(type(z))\n",
    "\n",
    "x = 1\n",
    "y = 3\n",
    "z = int(x / y)\n",
    "print(z)\n",
    "\n",
    "x = 10 - 5j\n",
    "y = 4 + 2j\n",
    "print(x)\n",
    "print(type(x))\n",
    "print(x.real, x.imag)\n",
    "print(x + y)\n",
    "print(x * y)\n",
    "print(x**2)\n",
    "\n",
    "x = 5\n",
    "y = 2\n",
    "print(x%y)"
   ]
  },
  {
   "cell_type": "markdown",
   "metadata": {
    "slideshow": {
     "slide_type": "slide"
    }
   },
   "source": [
    "## Logic (Boolean)\n",
    "* `and` : True if both are true\n",
    "* `or` : True if at least one is true\n",
    "* `not` : True only if false"
   ]
  },
  {
   "cell_type": "code",
   "execution_count": 50,
   "metadata": {
    "slideshow": {
     "slide_type": "subslide"
    }
   },
   "outputs": [
    {
     "data": {
      "text/plain": [
       "True"
      ]
     },
     "execution_count": 50,
     "metadata": {},
     "output_type": "execute_result"
    }
   ],
   "source": [
    "x = True\n",
    "y = False\n",
    "(not x) and y or 10==10"
   ]
  },
  {
   "cell_type": "markdown",
   "metadata": {
    "slideshow": {
     "slide_type": "slide"
    }
   },
   "source": [
    "## Comparison Operators\n",
    "<div class=\"alert alert-success\">\n",
    "Python has comparison operators <code>==</code>, <code>!=</code>, <code><</code>, <code>></code>, <code><=</code>, and <code>>=</code> for value comparisons. These operators return booleans.\n",
    "</div>"
   ]
  },
  {
   "cell_type": "markdown",
   "metadata": {
    "slideshow": {
     "slide_type": "fragment"
    }
   },
   "source": [
    "* `==` : values are equal\n",
    "* `!=` : values are not equal\n",
    "* `<` : value on left is less than value or right\n",
    "* `>` : value on left is greater than value on right\n",
    "* `<=` : value on left is less than *or equal to* value on right\n",
    "* `>=` : value on left is greater than or equal to value on the right"
   ]
  },
  {
   "cell_type": "code",
   "execution_count": 53,
   "metadata": {
    "slideshow": {
     "slide_type": "subslide"
    }
   },
   "outputs": [
    {
     "data": {
      "text/plain": [
       "True"
      ]
     },
     "execution_count": 53,
     "metadata": {},
     "output_type": "execute_result"
    }
   ],
   "source": [
    "a = 5\n",
    "b = 5\n",
    "c = 10\n",
    "d = 50\n",
    "\n",
    "a*b != d"
   ]
  },
  {
   "cell_type": "markdown",
   "metadata": {
    "slideshow": {
     "slide_type": "slide"
    }
   },
   "source": [
    "# User Input\n",
    "To capture input from the user, use the **input** command."
   ]
  },
  {
   "cell_type": "code",
   "execution_count": 57,
   "metadata": {
    "slideshow": {
     "slide_type": "fragment"
    }
   },
   "outputs": [
    {
     "name": "stdout",
     "output_type": "stream",
     "text": [
      "Enter a number:5\n"
     ]
    },
    {
     "ename": "TypeError",
     "evalue": "can only concatenate str (not \"int\") to str",
     "output_type": "error",
     "traceback": [
      "\u001b[0;31m---------------------------------------------------------------------------\u001b[0m",
      "\u001b[0;31mTypeError\u001b[0m                                 Traceback (most recent call last)",
      "\u001b[0;32m<ipython-input-57-520207d8b6e2>\u001b[0m in \u001b[0;36m<module>\u001b[0;34m\u001b[0m\n\u001b[1;32m      5\u001b[0m \u001b[0;32mtry\u001b[0m\u001b[0;34m:\u001b[0m\u001b[0;34m\u001b[0m\u001b[0;34m\u001b[0m\u001b[0m\n\u001b[1;32m      6\u001b[0m     \u001b[0mvalue\u001b[0m \u001b[0;34m=\u001b[0m \u001b[0minput\u001b[0m\u001b[0;34m(\u001b[0m\u001b[0;34m\"Enter a number:\"\u001b[0m\u001b[0;34m)\u001b[0m\u001b[0;34m\u001b[0m\u001b[0;34m\u001b[0m\u001b[0m\n\u001b[0;32m----> 7\u001b[0;31m     \u001b[0mvalue\u001b[0m \u001b[0;34m=\u001b[0m \u001b[0mvalue\u001b[0m \u001b[0;34m+\u001b[0m \u001b[0;36m1\u001b[0m\u001b[0;34m\u001b[0m\u001b[0;34m\u001b[0m\u001b[0m\n\u001b[0m\u001b[1;32m      8\u001b[0m     \u001b[0mprint\u001b[0m\u001b[0;34m(\u001b[0m\u001b[0;34m\"value after addition: \"\u001b[0m\u001b[0;34m,\u001b[0m \u001b[0mvalue\u001b[0m\u001b[0;34m)\u001b[0m\u001b[0;34m\u001b[0m\u001b[0;34m\u001b[0m\u001b[0m\n\u001b[1;32m      9\u001b[0m \u001b[0;32mexcept\u001b[0m \u001b[0mValueError\u001b[0m\u001b[0;34m:\u001b[0m\u001b[0;34m\u001b[0m\u001b[0;34m\u001b[0m\u001b[0m\n",
      "\u001b[0;31mTypeError\u001b[0m: can only concatenate str (not \"int\") to str"
     ]
    }
   ],
   "source": [
    "# value = input(\"Enter something:\")\n",
    "# print(\"value = \", value)\n",
    "# print(type(value))\n",
    "\n",
    "try:\n",
    "    value = int(input(\"Enter a number:\"))\n",
    "    value = value + 1\n",
    "    print(\"value after addition: \", value)\n",
    "except ValueError:\n",
    "    print(\"ValueError: Input must be a number\")\n",
    "x = 5\n",
    "print(x)"
   ]
  },
  {
   "cell_type": "markdown",
   "metadata": {
    "slideshow": {
     "slide_type": "slide"
    }
   },
   "source": [
    "# Conditionals\n",
    "* `if`\n",
    "* `elif`\n",
    "* `else`"
   ]
  },
  {
   "cell_type": "markdown",
   "metadata": {
    "slideshow": {
     "slide_type": "fragment"
    }
   },
   "source": [
    "<div class=\"alert alert-success\">\n",
    "Conditionals are statements that check for a condition, using the <code>if</code> statement, and then only execute a set of code if the condition evaluates as <code>True</code>.\n",
    "</div>"
   ]
  },
  {
   "cell_type": "markdown",
   "metadata": {
    "slideshow": {
     "slide_type": "fragment"
    }
   },
   "source": [
    "<div class=\"alert alert-success\">\n",
    "After an <code>if</code> statement, you can have any number of <code>elif</code>`s (meaning 'else if') to check other conditions.\n",
    "</div>"
   ]
  },
  {
   "cell_type": "markdown",
   "metadata": {
    "slideshow": {
     "slide_type": "fragment"
    }
   },
   "source": [
    "<div class=\"alert alert-success\">\n",
    "After an <code>if</code>, you can use an <code>else</code> that will run if the conditional(s) above have not run.\n",
    "</div>"
   ]
  },
  {
   "cell_type": "markdown",
   "metadata": {
    "slideshow": {
     "slide_type": "subslide"
    }
   },
   "source": [
    "**if** condition 1:\n",
    "\n",
    "    code goes here\n",
    "    \n",
    "**elif** condition 2:\n",
    "\n",
    "    code goes here\n",
    "\n",
    "**else:**\n",
    "\n",
    "    code goes here"
   ]
  },
  {
   "cell_type": "markdown",
   "metadata": {
    "slideshow": {
     "slide_type": "skip"
    }
   },
   "source": [
    "## Properties of conditionals\n",
    "\n",
    "- All conditionals start with an `if`, can have an optional and variable number of `elif`'s and an optional `else` statement\n",
    "- Conditionals can take any expression that can be evaluated as `True` or `False`. \n",
    "- At most one component (`if` / `elif` / `else`) of a conditional will run\n",
    "- The order of conditional blocks is always `if` then `elif`(s) then `else`\n",
    "- Code is only ever executed if the condition is met"
   ]
  },
  {
   "cell_type": "code",
   "execution_count": 62,
   "metadata": {
    "slideshow": {
     "slide_type": "subslide"
    }
   },
   "outputs": [
    {
     "name": "stdout",
     "output_type": "stream",
     "text": [
      "How do you like ECE 196? 5\n",
      "We will work hard to improve!\n"
     ]
    }
   ],
   "source": [
    "ECE196 = input(\"How do you like ECE 196? \")\n",
    "\n",
    "if ECE196 == 'Amazing':\n",
    "    print('Hoooray!')\n",
    "elif ECE196 == 'Great':\n",
    "    print('Thank you!')\n",
    "elif ECE196 == 'Good':\n",
    "    print('We appreciate the feedback!')\n",
    "else:\n",
    "    print('We will work hard to improve!')"
   ]
  },
  {
   "cell_type": "markdown",
   "metadata": {
    "slideshow": {
     "slide_type": "slide"
    }
   },
   "source": [
    "# Indentations"
   ]
  },
  {
   "cell_type": "code",
   "execution_count": 69,
   "metadata": {
    "slideshow": {
     "slide_type": "fragment"
    }
   },
   "outputs": [
    {
     "name": "stdout",
     "output_type": "stream",
     "text": [
      "al;kjdf\n"
     ]
    }
   ],
   "source": [
    "maximum = 50\n",
    "if maximum > 120:\n",
    "    print(\"it's not that crowded\")\n",
    "print(\"al;kjdf\")"
   ]
  },
  {
   "cell_type": "markdown",
   "metadata": {
    "slideshow": {
     "slide_type": "slide"
    }
   },
   "source": [
    "# Collections"
   ]
  },
  {
   "cell_type": "markdown",
   "metadata": {
    "slideshow": {
     "slide_type": "slide"
    }
   },
   "source": [
    "# List\n",
    "Refer to the following [link](https://docs.python.org/3/tutorial/datastructures.html) for all the available function."
   ]
  },
  {
   "cell_type": "markdown",
   "metadata": {
    "slideshow": {
     "slide_type": "fragment"
    }
   },
   "source": [
    "<div class=\"alert alert-success\">\n",
    "A <b>list</b> is a mutable collection of ordered items, that can be of mixed type. Lists are created using square brackets.\n",
    "</div>"
   ]
  },
  {
   "cell_type": "code",
   "execution_count": 79,
   "metadata": {
    "slideshow": {
     "slide_type": "subslide"
    }
   },
   "outputs": [
    {
     "name": "stdout",
     "output_type": "stream",
     "text": [
      "4\n",
      "['potatoes', 'bananas', (2+4j), (2+5j), 'apples']\n",
      "5\n",
      "['potatoes', (2+4j), (2+5j), 'apples']\n",
      "['potatoes', (2+4j), 'bananas', (2+5j), 'apples']\n"
     ]
    }
   ],
   "source": [
    "my_grocery_list = [\"apples\", \"bananas\", 5.5, 2 + 5j] ## intialized using brackets\n",
    "my_grocery_list[0] = \"potatoes\"\n",
    "my_grocery_list[2] = 2 + 4j      ## modifying element\n",
    "print(len(my_grocery_list))\n",
    "# print(my_grocery_list)\n",
    "# print(type(my_grocery_list[2]))\n",
    "\n",
    "my_grocery_list.append(\"apples\")  ## appending element\n",
    "print(my_grocery_list)\n",
    "print(len(my_grocery_list))\n",
    "\n",
    "my_grocery_list.pop(1)    ## removing element\n",
    "print(my_grocery_list)\n",
    "\n",
    "my_grocery_list.insert(2, \"bananas\")  ## insert at specified location\n",
    "print(my_grocery_list)\n"
   ]
  },
  {
   "cell_type": "code",
   "execution_count": 84,
   "metadata": {
    "slideshow": {
     "slide_type": "subslide"
    }
   },
   "outputs": [
    {
     "name": "stdout",
     "output_type": "stream",
     "text": [
      "['bananas', (2+5j)]\n"
     ]
    }
   ],
   "source": [
    "# indexing and slicing\n",
    "my_grocery_list = [\"apples\", \"bananas\", 5.5, 2 + 5j, 10, 11, 12]\n",
    "print(my_grocery_list[1:5:2])\n"
   ]
  },
  {
   "cell_type": "markdown",
   "metadata": {
    "slideshow": {
     "slide_type": "fragment"
    }
   },
   "source": [
    "* Negative indices index backwards through a collection\n",
    "* A sequence of indices (called a slice) can be accessed using `start:stop`\n",
    "* In this contstruction, `start` is included then every element until `stop`, not including `stop` itself\n",
    "* To skip values in a sequence use `start:stop:step`"
   ]
  },
  {
   "cell_type": "markdown",
   "metadata": {
    "slideshow": {
     "slide_type": "slide"
    }
   },
   "source": [
    "# Tuples\n",
    "Tuples works similar to list, except tuples are immutable. Refer to the following [link](https://www.tutorialspoint.com/python/python_tuples.htm) for all the available function. "
   ]
  },
  {
   "cell_type": "markdown",
   "metadata": {
    "slideshow": {
     "slide_type": "fragment"
    }
   },
   "source": [
    "<div class=\"alert alert-success\">\n",
    "A <b>tuple</b> is an <i>immutable</i> collection of ordered items, that can be of mixed type. Tuples are created using parentheses.\n",
    "</div>"
   ]
  },
  {
   "cell_type": "code",
   "execution_count": 93,
   "metadata": {
    "slideshow": {
     "slide_type": "subslide"
    }
   },
   "outputs": [
    {
     "name": "stdout",
     "output_type": "stream",
     "text": [
      "bananas\n",
      "<class 'tuple'>\n",
      "['apples', 'bananas', 5.5, (2+5j)]\n",
      "<class 'list'>\n"
     ]
    },
    {
     "ename": "AttributeError",
     "evalue": "'tuple' object has no attribute 'insert'",
     "output_type": "error",
     "traceback": [
      "\u001b[0;31m---------------------------------------------------------------------------\u001b[0m",
      "\u001b[0;31mAttributeError\u001b[0m                            Traceback (most recent call last)",
      "\u001b[0;32m<ipython-input-93-83f6b2f883ce>\u001b[0m in \u001b[0;36m<module>\u001b[0;34m\u001b[0m\n\u001b[1;32m     10\u001b[0m \u001b[0;31m# my_grocery_list[1] = \"potatoes\"  ## throw an error\u001b[0m\u001b[0;34m\u001b[0m\u001b[0;34m\u001b[0m\u001b[0;34m\u001b[0m\u001b[0m\n\u001b[1;32m     11\u001b[0m \u001b[0;31m# my_grocery_list.pop()\u001b[0m\u001b[0;34m\u001b[0m\u001b[0;34m\u001b[0m\u001b[0;34m\u001b[0m\u001b[0m\n\u001b[0;32m---> 12\u001b[0;31m \u001b[0mmy_grocery_list\u001b[0m\u001b[0;34m.\u001b[0m\u001b[0minsert\u001b[0m\u001b[0;34m(\u001b[0m\u001b[0;36m1\u001b[0m\u001b[0;34m,\u001b[0m \u001b[0;36m3.3\u001b[0m\u001b[0;34m)\u001b[0m\u001b[0;34m\u001b[0m\u001b[0;34m\u001b[0m\u001b[0m\n\u001b[0m",
      "\u001b[0;31mAttributeError\u001b[0m: 'tuple' object has no attribute 'insert'"
     ]
    }
   ],
   "source": [
    "my_grocery_list = (\"apples\", \"bananas\", 5.5, 2 + 5j)  ## tuples are initialzed via paranthesis\n",
    "print(my_grocery_list[1])\n",
    "print(type(my_grocery_list))\n",
    "tuple_to_list = list(my_grocery_list)\n",
    "print(tuple_to_list)\n",
    "print(type(tuple_to_list))\n",
    "tuple_to_list[1] = \"kiwi\"\n",
    "\n",
    "# my_grocery_list.append(\"potatoes\") ## throw an error\n",
    "# my_grocery_list[1] = \"potatoes\"  ## throw an error\n",
    "# my_grocery_list.pop()\n",
    "# my_grocery_list.insert(1, 3.3)"
   ]
  },
  {
   "cell_type": "code",
   "execution_count": 94,
   "metadata": {
    "slideshow": {
     "slide_type": "subslide"
    }
   },
   "outputs": [
    {
     "name": "stdout",
     "output_type": "stream",
     "text": [
      "1\n",
      "2\n"
     ]
    }
   ],
   "source": [
    "# A common use is to assign multiple return values with tuples:\n",
    "def my_function():\n",
    "    a = 1\n",
    "    b = 2\n",
    "    tup = (a,b)\n",
    "    return tup\n",
    "x, y = my_function()\n",
    "print(x)\n",
    "print(y)"
   ]
  },
  {
   "cell_type": "code",
   "execution_count": 95,
   "metadata": {
    "slideshow": {
     "slide_type": "fragment"
    }
   },
   "outputs": [],
   "source": [
    "def my_function():\n",
    "    return 1, 2"
   ]
  },
  {
   "cell_type": "markdown",
   "metadata": {
    "slideshow": {
     "slide_type": "subslide"
    }
   },
   "source": [
    "So **why** are there mutable and immutable objects in Python? Here is the breakdown:\n",
    "\n",
    "Mutable:\n",
    "\n",
    "  1. Modify: fast\n",
    "  2. Read: slow\n",
    "\n",
    "Immutable:\n",
    "\n",
    "  1. Modify: slow (need to make a copy to edit)\n",
    "  2. Read: very fast"
   ]
  },
  {
   "cell_type": "markdown",
   "metadata": {
    "slideshow": {
     "slide_type": "slide"
    }
   },
   "source": [
    "## Pay attention to Aliases!"
   ]
  },
  {
   "cell_type": "code",
   "execution_count": 97,
   "metadata": {
    "slideshow": {
     "slide_type": "subslide"
    }
   },
   "outputs": [
    {
     "name": "stdout",
     "output_type": "stream",
     "text": [
      "2\n",
      "1\n"
     ]
    }
   ],
   "source": [
    "# Make a variable & an alias\n",
    "# change value of original variable\n",
    "# Ints are immutable\n",
    "a = 1\n",
    "b = a\n",
    "a = 2\n",
    "\n",
    "print(a)\n",
    "print(b)"
   ]
  },
  {
   "cell_type": "code",
   "execution_count": 103,
   "metadata": {
    "slideshow": {
     "slide_type": "fragment"
    }
   },
   "outputs": [
    {
     "name": "stdout",
     "output_type": "stream",
     "text": [
      "[1, 29, 3, 4]\n",
      "[1, 29, 3, 4]\n",
      "[1, 29, 3, 4]\n"
     ]
    }
   ],
   "source": [
    "# Lists are mutable\n",
    "first_list = [1, 2, 3, 4]\n",
    "alias_list = first_list\n",
    "#change second value of first_list\n",
    "first_list[1] = 29\n",
    "print(first_list)\n",
    "print(alias_list)\n",
    "copied_list = first_list.copy()\n",
    "first_list[-1] = 5\n",
    "print(copied_list)\n"
   ]
  },
  {
   "cell_type": "markdown",
   "metadata": {
    "slideshow": {
     "slide_type": "slide"
    }
   },
   "source": [
    "## Strings are also collection of characters!"
   ]
  },
  {
   "cell_type": "code",
   "execution_count": 111,
   "metadata": {
    "slideshow": {
     "slide_type": "fragment"
    }
   },
   "outputs": [
    {
     "ename": "TypeError",
     "evalue": "'str' object does not support item assignment",
     "output_type": "error",
     "traceback": [
      "\u001b[0;31m---------------------------------------------------------------------------\u001b[0m",
      "\u001b[0;31mTypeError\u001b[0m                                 Traceback (most recent call last)",
      "\u001b[0;32m<ipython-input-111-875fe7c5ec6e>\u001b[0m in \u001b[0;36m<module>\u001b[0;34m\u001b[0m\n\u001b[1;32m      9\u001b[0m \u001b[0;31m# # Index into a string\u001b[0m\u001b[0;34m\u001b[0m\u001b[0;34m\u001b[0m\u001b[0;34m\u001b[0m\u001b[0m\n\u001b[1;32m     10\u001b[0m \u001b[0;31m# This code will produce an error\u001b[0m\u001b[0;34m\u001b[0m\u001b[0;34m\u001b[0m\u001b[0;34m\u001b[0m\u001b[0m\n\u001b[0;32m---> 11\u001b[0;31m \u001b[0mmy_str\u001b[0m\u001b[0;34m[\u001b[0m\u001b[0;36m1\u001b[0m\u001b[0;34m:\u001b[0m\u001b[0;36m3\u001b[0m\u001b[0;34m]\u001b[0m \u001b[0;34m=\u001b[0m \u001b[0;34m'HE'\u001b[0m\u001b[0;34m\u001b[0m\u001b[0;34m\u001b[0m\u001b[0m\n\u001b[0m",
      "\u001b[0;31mTypeError\u001b[0m: 'str' object does not support item assignment"
     ]
    }
   ],
   "source": [
    "# Define a string\n",
    "my_str = 'TheFamousFive'\n",
    "# Index into a string\n",
    "my_str[2]\n",
    "# Ask if an item is in a string\n",
    "'Fam' in my_str\n",
    "# Check the length of a string\n",
    "len(my_str)\n",
    "# # Index into a string\n",
    "# This code will produce an error\n",
    "my_str[1:3] = 'HE'"
   ]
  },
  {
   "cell_type": "markdown",
   "metadata": {
    "slideshow": {
     "slide_type": "slide"
    }
   },
   "source": [
    "# Loops\n",
    "## for loops\n",
    "**for** *var* in *sequence*:\n",
    "\n",
    "    code goes here"
   ]
  },
  {
   "cell_type": "code",
   "execution_count": 115,
   "metadata": {
    "slideshow": {
     "slide_type": "subslide"
    }
   },
   "outputs": [
    {
     "name": "stdout",
     "output_type": "stream",
     "text": [
      "2\n"
     ]
    }
   ],
   "source": [
    "my_grocery_list = [\"apples\", \"bananas\", 5.5, 2 + 5j]\n",
    "my_grocery_list = (\"apples\", \"bananas\", 5.5, 2 + 5j)  ## tuples are initialzed via paranthesis\n",
    "counter = 0\n",
    "for grocery in my_grocery_list:\n",
    "    if type(grocery) is str:\n",
    "        counter += 1\n",
    "    \n",
    "print(counter)"
   ]
  },
  {
   "cell_type": "markdown",
   "metadata": {
    "slideshow": {
     "slide_type": "slide"
    }
   },
   "source": [
    "## while loops\n",
    "**while** stopping_condition:\n",
    "    \n",
    "    code goes here\n",
    "    \n",
    "**Python does not support do-while loops**"
   ]
  },
  {
   "cell_type": "code",
   "execution_count": 116,
   "metadata": {
    "slideshow": {
     "slide_type": "subslide"
    }
   },
   "outputs": [
    {
     "name": "stdout",
     "output_type": "stream",
     "text": [
      "I =  10\n",
      "I =  9\n",
      "I =  8\n",
      "I =  7\n",
      "I =  6\n",
      "I =  5\n",
      "I =  4\n",
      "I =  3\n",
      "I =  2\n",
      "I =  1\n",
      "I =  0\n"
     ]
    }
   ],
   "source": [
    "i = 10\n",
    "while i >= 0:\n",
    "    print(\"I = \", i)\n",
    "    i = i - 1"
   ]
  },
  {
   "cell_type": "markdown",
   "metadata": {
    "slideshow": {
     "slide_type": "slide"
    }
   },
   "source": [
    "## Range\n",
    "<div class=\"alert alert-success\">\n",
    "<code>range</code> is an operator to create a range of numbers, that is often used with loops.\n",
    "</div>"
   ]
  },
  {
   "cell_type": "markdown",
   "metadata": {
    "slideshow": {
     "slide_type": "fragment"
    }
   },
   "source": [
    "Refer to the following [link](https://docs.python.org/3/library/functions.html#func-range) for further reference."
   ]
  },
  {
   "cell_type": "code",
   "execution_count": 119,
   "metadata": {
    "slideshow": {
     "slide_type": "subslide"
    }
   },
   "outputs": [
    {
     "name": "stdout",
     "output_type": "stream",
     "text": [
      "k =  1\n",
      "k =  4\n",
      "k =  7\n",
      "k =  10\n",
      "k =  13\n",
      "k =  16\n",
      "k =  19\n"
     ]
    }
   ],
   "source": [
    "# for i in range(7):    # provide the stopping condition\n",
    "#     print(\"i = \", i)\n",
    "    \n",
    "# for j in range(1, 6 + 1):  # provide the starting and stopping condition\n",
    "#     print(\"j = \", j)\n",
    "    \n",
    "for k in range(1, 21, 3):   # provide the starting, stopping, and step condition\n",
    "    print(\"k = \", k)"
   ]
  },
  {
   "cell_type": "markdown",
   "metadata": {
    "slideshow": {
     "slide_type": "subslide"
    }
   },
   "source": [
    "Write a loop that adds all the odd numbers between 1 and 100 together."
   ]
  },
  {
   "cell_type": "markdown",
   "metadata": {
    "slideshow": {
     "slide_type": "fragment"
    }
   },
   "source": [
    "A)  \n",
    "`\n",
    "summation = 0\n",
    "for num in range(100):\n",
    "    summation += num\n",
    "print(summation)\n",
    "`  \n",
    "B)  \n",
    "`\n",
    "summation = 0\n",
    "for num in range(0,101,2):\n",
    "    summation += num\n",
    "print(summation)\n",
    "`  \n",
    "C)  \n",
    "`\n",
    "summation = 0\n",
    "for num in range(1,100,2):\n",
    "    summation += num\n",
    "print(summation)\n",
    "`  \n",
    "D)  \n",
    "None of above"
   ]
  },
  {
   "cell_type": "markdown",
   "metadata": {
    "slideshow": {
     "slide_type": "slide"
    }
   },
   "source": [
    "## Continue and Break"
   ]
  },
  {
   "cell_type": "markdown",
   "metadata": {
    "slideshow": {
     "slide_type": "fragment"
    }
   },
   "source": [
    "<div class=\"alert alert-success\">\n",
    "<code>continue</code> is a special operator to jump ahead to the next iteration of a loop.\n",
    "</div>"
   ]
  },
  {
   "cell_type": "markdown",
   "metadata": {
    "slideshow": {
     "slide_type": "fragment"
    }
   },
   "source": [
    "<div class=\"alert alert-success\">\n",
    "<code>break</code> is a special operator to break out of a loop.\n",
    "</div>"
   ]
  },
  {
   "cell_type": "markdown",
   "metadata": {
    "slideshow": {
     "slide_type": "fragment"
    }
   },
   "source": [
    "<div class=\"alert alert-success\">\n",
    "<code>pass</code> is a null operation used as a placeholder that does nothing when executed.\n",
    "</div>"
   ]
  },
  {
   "cell_type": "code",
   "execution_count": 120,
   "metadata": {
    "slideshow": {
     "slide_type": "subslide"
    }
   },
   "outputs": [
    {
     "name": "stdout",
     "output_type": "stream",
     "text": [
      "13\n"
     ]
    }
   ],
   "source": [
    "counter = 0\n",
    "for i in range(50):\n",
    "    if i%2 == 0:\n",
    "        counter += 1\n",
    "    if i == 25:\n",
    "        break\n",
    "print(counter)"
   ]
  },
  {
   "cell_type": "markdown",
   "metadata": {
    "slideshow": {
     "slide_type": "slide"
    }
   },
   "source": [
    "# Dictionary\n",
    "<div class=\"alert alert-success\">\n",
    "A dictionary is mutable collection of items, that can be of mixed-type, that are stored as key-value pairs.\n",
    "</div>"
   ]
  },
  {
   "cell_type": "markdown",
   "metadata": {
    "slideshow": {
     "slide_type": "fragment"
    }
   },
   "source": [
    "Dictionaries are comma separated key-value pairs. Refer to the following [link](https://www.w3schools.com/python/python_dictionaries.asp) for further reference.\n",
    "- Only one value per key. No duplicate keys allowed. \n",
    "    - If duplicate keys specified during assignment, the last assignment wins.\n",
    "   - **keys** must be of an immutable type (string, tuple, integer, float, etc)\n",
    "- Note: **values** can be of any type\n"
   ]
  },
  {
   "cell_type": "code",
   "execution_count": 124,
   "metadata": {
    "slideshow": {
     "slide_type": "slide"
    }
   },
   "outputs": [
    {
     "name": "stdout",
     "output_type": "stream",
     "text": [
      "['pushups', 'situps', 'squads']\n",
      "{'Mon': ['pushups', 'situps', 'squads', 'rest'], 'Tue': '3 mile run', 'wed': 'rest', 'Fri': 3.141592}\n",
      "{'Mon': ['pushups', 'situps', 'squads', 'rest'], 'Tue': '3 mile run', 'wed': 'rest', 'Fri': 3.141592, 'Th': '3 mile run'}\n"
     ]
    }
   ],
   "source": [
    "workout_dictionary = {\"Mon\": [\"pushups\", \"situps\", \"squads\"],\n",
    "                      \"Tue\": \"3 mile run\",\n",
    "                      \"wed\": \"rest\",\n",
    "                      \"Fri\": 3.141592,\n",
    "                     }\n",
    "\n",
    "print(workout_dictionary[\"Mon\"])  ## accessing items\n",
    "workout_dictionary[\"Mon\"].append(\"rest\") ## modify items\n",
    "print(workout_dictionary)\n",
    "\n",
    "workout_dictionary[\"Th\"] = \"3 mile run\"  ## adding items\n",
    "print(workout_dictionary)"
   ]
  },
  {
   "cell_type": "markdown",
   "metadata": {
    "slideshow": {
     "slide_type": "subslide"
    }
   },
   "source": [
    "What will the code print?"
   ]
  },
  {
   "cell_type": "code",
   "execution_count": 127,
   "metadata": {
    "slideshow": {
     "slide_type": "fragment"
    }
   },
   "outputs": [
    {
     "name": "stdout",
     "output_type": "stream",
     "text": [
      "Matt\n",
      "Jason\n",
      "Lee\n",
      "Lee\n"
     ]
    }
   ],
   "source": [
    "guesses = {'Matt' : [2, 8], \n",
    "           'Jason'  : [12, 18],\n",
    "           'Lee' : [7, 11]}\n",
    "answer = 10\n",
    "\n",
    "for item in guesses:\n",
    "    temp = guesses[item]\n",
    "    if temp[0] <= answer <= temp[1]:\n",
    "        winner = item\n",
    "        \n",
    "print(winner)"
   ]
  },
  {
   "cell_type": "markdown",
   "metadata": {
    "slideshow": {
     "slide_type": "fragment"
    }
   },
   "source": [
    "* A) Matt\n",
    "* B) [7, 11] \n",
    "* C) Jason\n",
    "* D) Lee\n",
    "* E) Matt, Jason"
   ]
  },
  {
   "cell_type": "markdown",
   "metadata": {
    "slideshow": {
     "slide_type": "slide"
    }
   },
   "source": [
    "# Functions\n",
    "Function inputs come in four basic types:\n",
    "\n",
    "1. Required\n",
    "2. Default (optional)\n",
    "3. Keyword\n",
    "4. Variable length\n",
    "\n",
    "Notice that required arguments must always come before optional arguments.\n",
    "\n",
    "You can call functions using the keyword arguments or without them. Using keyword arguments allows you to switch the order of input parameters without affecting the result (i.e. you don't need to remember the order of arguments for each function)."
   ]
  },
  {
   "cell_type": "code",
   "execution_count": 139,
   "metadata": {
    "slideshow": {
     "slide_type": "subslide"
    }
   },
   "outputs": [
    {
     "name": "stdout",
     "output_type": "stream",
     "text": [
      "ECE196\n",
      "3.1415\n",
      "6.141500000000001\n",
      "6\n",
      "8\n"
     ]
    }
   ],
   "source": [
    "def printMe(value):  ## function with parameter\n",
    "    print(value)\n",
    "    \n",
    "def anotherFunction(value = \"ECE196\"):  ## fuction w/ default argument\n",
    "    print(value)\n",
    "    \n",
    "def addMeAndMe(x, y = 3.1415):  ## function with and w/0 default argument\n",
    "    print(x + y)\n",
    "    \n",
    "def testFunction(x, y = 3.14, z = 5.6):  ## function w/ multiple default argument\n",
    "    print(x+y+z)\n",
    "    \n",
    "# printMe(5)\n",
    "# printMe(\"ece196\")\n",
    "\n",
    "anotherFunction()\n",
    "anotherFunction(3.1415)\n",
    "\n",
    "addMeAndMe(3)\n",
    "addMeAndMe(4, 2)\n",
    "\n",
    "testFunction(4, z = 2, y = 2)"
   ]
  },
  {
   "cell_type": "code",
   "execution_count": 2,
   "metadata": {
    "slideshow": {
     "slide_type": "subslide"
    }
   },
   "outputs": [],
   "source": [
    "def my_function(required_argument, optional_argument=\"default value\", *extra_args):\n",
    "    print(required_argument)\n",
    "    print(optional_argument)\n",
    "    if extra_args:\n",
    "        print(extra_args)\n",
    "    for extra_arg in extra_args:\n",
    "        print(extra_arg)\n",
    "        if extra_arg == 5:\n",
    "            return \"got the number \"+str(extra_arg)    # this is just to demo return statements"
   ]
  },
  {
   "cell_type": "code",
   "execution_count": 140,
   "metadata": {
    "slideshow": {
     "slide_type": "fragment"
    }
   },
   "outputs": [
    {
     "ename": "TypeError",
     "evalue": "my_function() takes 0 positional arguments but 4 were given",
     "output_type": "error",
     "traceback": [
      "\u001b[0;31m---------------------------------------------------------------------------\u001b[0m",
      "\u001b[0;31mTypeError\u001b[0m                                 Traceback (most recent call last)",
      "\u001b[0;32m<ipython-input-140-25181f5be648>\u001b[0m in \u001b[0;36m<module>\u001b[0;34m\u001b[0m\n\u001b[0;32m----> 1\u001b[0;31m \u001b[0mmy_function\u001b[0m\u001b[0;34m(\u001b[0m\u001b[0;34m\"test\"\u001b[0m\u001b[0;34m,\u001b[0m \u001b[0;34m\"okay\"\u001b[0m\u001b[0;34m,\u001b[0m \u001b[0;34m\"extra 1\"\u001b[0m\u001b[0;34m,\u001b[0m \u001b[0;34m\"extra 2\"\u001b[0m\u001b[0;34m)\u001b[0m\u001b[0;34m\u001b[0m\u001b[0;34m\u001b[0m\u001b[0m\n\u001b[0m\u001b[1;32m      2\u001b[0m \u001b[0mmy_function\u001b[0m\u001b[0;34m(\u001b[0m\u001b[0moptional_argument\u001b[0m\u001b[0;34m=\u001b[0m\u001b[0;34m\"okay\"\u001b[0m\u001b[0;34m,\u001b[0m \u001b[0mrequired_argument\u001b[0m\u001b[0;34m=\u001b[0m\u001b[0;34m\"test\"\u001b[0m\u001b[0;34m)\u001b[0m\u001b[0;34m\u001b[0m\u001b[0;34m\u001b[0m\u001b[0m\n",
      "\u001b[0;31mTypeError\u001b[0m: my_function() takes 0 positional arguments but 4 were given"
     ]
    }
   ],
   "source": [
    "my_function(\"test\", \"okay\", \"extra 1\", \"extra 2\")\n",
    "my_function(optional_argument=\"okay\", required_argument=\"test\")"
   ]
  },
  {
   "cell_type": "markdown",
   "metadata": {
    "slideshow": {
     "slide_type": "fragment"
    }
   },
   "source": [
    "Note that the following ordering does not work."
   ]
  },
  {
   "cell_type": "code",
   "execution_count": 7,
   "metadata": {
    "slideshow": {
     "slide_type": "fragment"
    }
   },
   "outputs": [
    {
     "ename": "SyntaxError",
     "evalue": "positional argument follows keyword argument (<ipython-input-7-fdab921ecd29>, line 1)",
     "output_type": "error",
     "traceback": [
      "\u001b[0;36m  File \u001b[0;32m\"<ipython-input-7-fdab921ecd29>\"\u001b[0;36m, line \u001b[0;32m1\u001b[0m\n\u001b[0;31m    my_function(required_argument=\"test\", \"okay\")\u001b[0m\n\u001b[0m                                         ^\u001b[0m\n\u001b[0;31mSyntaxError\u001b[0m\u001b[0;31m:\u001b[0m positional argument follows keyword argument\n"
     ]
    }
   ],
   "source": [
    "my_function(required_argument=\"test\", \"okay\")"
   ]
  },
  {
   "cell_type": "markdown",
   "metadata": {
    "slideshow": {
     "slide_type": "subslide"
    }
   },
   "source": [
    "### Variable scope\n",
    "Unless you use the keyword global, variables are by default local. You can access global variables from inside an enclosing scope but not modify them, unless you explicitly use the `global` keyword before it."
   ]
  },
  {
   "cell_type": "code",
   "execution_count": 141,
   "metadata": {
    "slideshow": {
     "slide_type": "subslide"
    }
   },
   "outputs": [
    {
     "name": "stdout",
     "output_type": "stream",
     "text": [
      "123\n",
      "42\n",
      "Variable does not exist!\n"
     ]
    }
   ],
   "source": [
    "global_var1 = 123\n",
    "global_var2 = 321\n",
    "\n",
    "def function():\n",
    "    local_var = 567\n",
    "\n",
    "    # only accessing global_var1\n",
    "    print(global_var1)\n",
    "\n",
    "    # accessing and modifying global_var2\n",
    "    global global_var2\n",
    "    global_var2 = 42\n",
    "    print(global_var2)\n",
    "    return\n",
    "\n",
    "function()\n",
    "\n",
    "try:\n",
    "    print(local_var)\n",
    "except NameError:\n",
    "    print(\"Variable does not exist!\")"
   ]
  },
  {
   "cell_type": "markdown",
   "metadata": {
    "slideshow": {
     "slide_type": "slide"
    }
   },
   "source": [
    "# Classes\n",
    "For a detail explanation of classes in Python, refer to the offical [documentation](https://docs.python.org/3/tutorial/classes.html).\n",
    "For more on Python Object Oriented Programming, check out [this website](https://realpython.com/python3-object-oriented-programming/).\n",
    "\n",
    "**class** ClassName:\n",
    "    \n",
    "    <statement-1>\n",
    "    .\n",
    "    .\n",
    "    .\n",
    "    <statement-N>"
   ]
  },
  {
   "cell_type": "code",
   "execution_count": 142,
   "metadata": {
    "slideshow": {
     "slide_type": "subslide"
    }
   },
   "outputs": [
    {
     "name": "stdout",
     "output_type": "stream",
     "text": [
      "This is the constructor for the class....\n",
      "ece196\n",
      "myVariable =  4.5\n",
      "ECE196\n"
     ]
    }
   ],
   "source": [
    "class MyClass(object):\n",
    "    \n",
    "    def __init__(self, x = 4.5):\n",
    "        self.myVariable = x\n",
    "        print(\"This is the constructor for the class....\")\n",
    "    \n",
    "    def printMe(value):  ## function with parameter\n",
    "        print(value)\n",
    "    \n",
    "    def __anotherFunction__(self, value = \"ECE196\"):  ## fuction w/ default argument\n",
    "        print(\"myVariable = \", self.myVariable)\n",
    "        print(value)\n",
    "\n",
    "    def addMeAndMe(self, x, y = 3.1415):  ## function with and w/0 default argument\n",
    "        print(x + y)\n",
    "\n",
    "    def testFunction(self, x, y = 3.14, z = 5.6):  ## function w/ multiple default argument\n",
    "        print(x+y+z)\n",
    "        \n",
    "x = MyClass()\n",
    "MyClass.printMe(\"ece196\")\n",
    "x.__anotherFunction__()"
   ]
  },
  {
   "cell_type": "code",
   "execution_count": null,
   "metadata": {
    "slideshow": {
     "slide_type": "subslide"
    }
   },
   "outputs": [],
   "source": []
  },
  {
   "cell_type": "markdown",
   "metadata": {
    "slideshow": {
     "slide_type": "slide"
    }
   },
   "source": [
    "# Imports\n",
    "For a detail explanation of modules in Python, refer to the official [documentation](https://docs.python.org/3/tutorial/modules.html)."
   ]
  },
  {
   "cell_type": "code",
   "execution_count": 144,
   "metadata": {
    "slideshow": {
     "slide_type": "subslide"
    }
   },
   "outputs": [
    {
     "name": "stdout",
     "output_type": "stream",
     "text": [
      "[1, 2, 3, 1, 2, 3]\n",
      "[2 4 6]\n"
     ]
    }
   ],
   "source": [
    "import numpy as np   ## #include <numpy.h>, numpy with alias np\n",
    "\n",
    "my_list = [1, 2, 3]\n",
    "my_list *= 2\n",
    "print(my_list)\n",
    "\n",
    "x = np.array([1,2,3])\n",
    "x *= 2\n",
    "print(x)\n",
    "# y = np.array([6,7,8,9,10])\n",
    "\n"
   ]
  },
  {
   "cell_type": "code",
   "execution_count": null,
   "metadata": {
    "slideshow": {
     "slide_type": "subslide"
    }
   },
   "outputs": [],
   "source": []
  }
 ],
 "metadata": {
  "kernelspec": {
   "display_name": "Python 3",
   "language": "python",
   "name": "python3"
  },
  "language_info": {
   "codemirror_mode": {
    "name": "ipython",
    "version": 3
   },
   "file_extension": ".py",
   "mimetype": "text/x-python",
   "name": "python",
   "nbconvert_exporter": "python",
   "pygments_lexer": "ipython3",
   "version": "3.7.2"
  }
 },
 "nbformat": 4,
 "nbformat_minor": 4
}
